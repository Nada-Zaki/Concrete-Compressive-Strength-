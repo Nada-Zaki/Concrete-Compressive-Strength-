{
 "cells": [
  {
   "cell_type": "markdown",
   "metadata": {
    "colab_type": "text",
    "id": "GD5lHj0STSyb"
   },
   "source": [
    "# **Import** **Libraries**"
   ]
  },
  {
   "cell_type": "code",
   "execution_count": 1,
   "metadata": {
    "colab": {},
    "colab_type": "code",
    "id": "cQfR8MtFL96G"
   },
   "outputs": [],
   "source": [
    "import pandas as pd\n",
    "import numpy as np \n",
    "import matplotlib.pyplot as plt\n",
    "\n",
    "from sklearn.model_selection import train_test_split\n",
    "from sklearn.preprocessing import StandardScaler\n",
    "\n",
    "from sklearn.linear_model import LinearRegression\n",
    "from sklearn.preprocessing import PolynomialFeatures\n",
    "from sklearn.linear_model import Ridge\n",
    "from sklearn.linear_model import Lasso\n",
    "from sklearn.metrics import r2_score\n",
    "\n",
    "from sklearn.model_selection import GridSearchCV\n",
    "from sklearn.tree import DecisionTreeRegressor\n",
    "from sklearn.ensemble import RandomForestRegressor\n",
    "from sklearn.ensemble import AdaBoostRegressor\n",
    "from xgboost import XGBRegressor\n",
    "from sklearn.ensemble import GradientBoostingRegressor"
   ]
  },
  {
   "cell_type": "markdown",
   "metadata": {
    "colab_type": "text",
    "id": "JVx3jkcFT4cK"
   },
   "source": [
    "# **Load** **Data**"
   ]
  },
  {
   "cell_type": "code",
   "execution_count": 2,
   "metadata": {
    "colab": {
     "base_uri": "https://localhost:8080/",
     "height": 493
    },
    "colab_type": "code",
    "id": "SSnAT2kbd6-l",
    "outputId": "e9f2cf4e-a749-49f4-bc98-9ce5350079c4"
   },
   "outputs": [
    {
     "data": {
      "text/html": [
       "<div>\n",
       "<style scoped>\n",
       "    .dataframe tbody tr th:only-of-type {\n",
       "        vertical-align: middle;\n",
       "    }\n",
       "\n",
       "    .dataframe tbody tr th {\n",
       "        vertical-align: top;\n",
       "    }\n",
       "\n",
       "    .dataframe thead th {\n",
       "        text-align: right;\n",
       "    }\n",
       "</style>\n",
       "<table border=\"1\" class=\"dataframe\">\n",
       "  <thead>\n",
       "    <tr style=\"text-align: right;\">\n",
       "      <th></th>\n",
       "      <th>Cement (component 1)(kg in a m^3 mixture)</th>\n",
       "      <th>Blast Furnace Slag (component 2)(kg in a m^3 mixture)</th>\n",
       "      <th>Fly Ash (component 3)(kg in a m^3 mixture)</th>\n",
       "      <th>Water  (component 4)(kg in a m^3 mixture)</th>\n",
       "      <th>Superplasticizer (component 5)(kg in a m^3 mixture)</th>\n",
       "      <th>Coarse Aggregate  (component 6)(kg in a m^3 mixture)</th>\n",
       "      <th>Fine Aggregate (component 7)(kg in a m^3 mixture)</th>\n",
       "      <th>Age (day)</th>\n",
       "      <th>Concrete compressive strength(MPa, megapascals)</th>\n",
       "    </tr>\n",
       "  </thead>\n",
       "  <tbody>\n",
       "    <tr>\n",
       "      <th>0</th>\n",
       "      <td>540.0</td>\n",
       "      <td>0.0</td>\n",
       "      <td>0.0</td>\n",
       "      <td>162.0</td>\n",
       "      <td>2.5</td>\n",
       "      <td>1040.0</td>\n",
       "      <td>676.0</td>\n",
       "      <td>28</td>\n",
       "      <td>79.986111</td>\n",
       "    </tr>\n",
       "    <tr>\n",
       "      <th>1</th>\n",
       "      <td>540.0</td>\n",
       "      <td>0.0</td>\n",
       "      <td>0.0</td>\n",
       "      <td>162.0</td>\n",
       "      <td>2.5</td>\n",
       "      <td>1055.0</td>\n",
       "      <td>676.0</td>\n",
       "      <td>28</td>\n",
       "      <td>61.887366</td>\n",
       "    </tr>\n",
       "    <tr>\n",
       "      <th>2</th>\n",
       "      <td>332.5</td>\n",
       "      <td>142.5</td>\n",
       "      <td>0.0</td>\n",
       "      <td>228.0</td>\n",
       "      <td>0.0</td>\n",
       "      <td>932.0</td>\n",
       "      <td>594.0</td>\n",
       "      <td>270</td>\n",
       "      <td>40.269535</td>\n",
       "    </tr>\n",
       "    <tr>\n",
       "      <th>3</th>\n",
       "      <td>332.5</td>\n",
       "      <td>142.5</td>\n",
       "      <td>0.0</td>\n",
       "      <td>228.0</td>\n",
       "      <td>0.0</td>\n",
       "      <td>932.0</td>\n",
       "      <td>594.0</td>\n",
       "      <td>365</td>\n",
       "      <td>41.052780</td>\n",
       "    </tr>\n",
       "    <tr>\n",
       "      <th>4</th>\n",
       "      <td>198.6</td>\n",
       "      <td>132.4</td>\n",
       "      <td>0.0</td>\n",
       "      <td>192.0</td>\n",
       "      <td>0.0</td>\n",
       "      <td>978.4</td>\n",
       "      <td>825.5</td>\n",
       "      <td>360</td>\n",
       "      <td>44.296075</td>\n",
       "    </tr>\n",
       "    <tr>\n",
       "      <th>...</th>\n",
       "      <td>...</td>\n",
       "      <td>...</td>\n",
       "      <td>...</td>\n",
       "      <td>...</td>\n",
       "      <td>...</td>\n",
       "      <td>...</td>\n",
       "      <td>...</td>\n",
       "      <td>...</td>\n",
       "      <td>...</td>\n",
       "    </tr>\n",
       "    <tr>\n",
       "      <th>1025</th>\n",
       "      <td>276.4</td>\n",
       "      <td>116.0</td>\n",
       "      <td>90.3</td>\n",
       "      <td>179.6</td>\n",
       "      <td>8.9</td>\n",
       "      <td>870.1</td>\n",
       "      <td>768.3</td>\n",
       "      <td>28</td>\n",
       "      <td>44.284354</td>\n",
       "    </tr>\n",
       "    <tr>\n",
       "      <th>1026</th>\n",
       "      <td>322.2</td>\n",
       "      <td>0.0</td>\n",
       "      <td>115.6</td>\n",
       "      <td>196.0</td>\n",
       "      <td>10.4</td>\n",
       "      <td>817.9</td>\n",
       "      <td>813.4</td>\n",
       "      <td>28</td>\n",
       "      <td>31.178794</td>\n",
       "    </tr>\n",
       "    <tr>\n",
       "      <th>1027</th>\n",
       "      <td>148.5</td>\n",
       "      <td>139.4</td>\n",
       "      <td>108.6</td>\n",
       "      <td>192.7</td>\n",
       "      <td>6.1</td>\n",
       "      <td>892.4</td>\n",
       "      <td>780.0</td>\n",
       "      <td>28</td>\n",
       "      <td>23.696601</td>\n",
       "    </tr>\n",
       "    <tr>\n",
       "      <th>1028</th>\n",
       "      <td>159.1</td>\n",
       "      <td>186.7</td>\n",
       "      <td>0.0</td>\n",
       "      <td>175.6</td>\n",
       "      <td>11.3</td>\n",
       "      <td>989.6</td>\n",
       "      <td>788.9</td>\n",
       "      <td>28</td>\n",
       "      <td>32.768036</td>\n",
       "    </tr>\n",
       "    <tr>\n",
       "      <th>1029</th>\n",
       "      <td>260.9</td>\n",
       "      <td>100.5</td>\n",
       "      <td>78.3</td>\n",
       "      <td>200.6</td>\n",
       "      <td>8.6</td>\n",
       "      <td>864.5</td>\n",
       "      <td>761.5</td>\n",
       "      <td>28</td>\n",
       "      <td>32.401235</td>\n",
       "    </tr>\n",
       "  </tbody>\n",
       "</table>\n",
       "<p>1030 rows × 9 columns</p>\n",
       "</div>"
      ],
      "text/plain": [
       "      Cement (component 1)(kg in a m^3 mixture)  \\\n",
       "0                                         540.0   \n",
       "1                                         540.0   \n",
       "2                                         332.5   \n",
       "3                                         332.5   \n",
       "4                                         198.6   \n",
       "...                                         ...   \n",
       "1025                                      276.4   \n",
       "1026                                      322.2   \n",
       "1027                                      148.5   \n",
       "1028                                      159.1   \n",
       "1029                                      260.9   \n",
       "\n",
       "      Blast Furnace Slag (component 2)(kg in a m^3 mixture)  \\\n",
       "0                                                   0.0       \n",
       "1                                                   0.0       \n",
       "2                                                 142.5       \n",
       "3                                                 142.5       \n",
       "4                                                 132.4       \n",
       "...                                                 ...       \n",
       "1025                                              116.0       \n",
       "1026                                                0.0       \n",
       "1027                                              139.4       \n",
       "1028                                              186.7       \n",
       "1029                                              100.5       \n",
       "\n",
       "      Fly Ash (component 3)(kg in a m^3 mixture)  \\\n",
       "0                                            0.0   \n",
       "1                                            0.0   \n",
       "2                                            0.0   \n",
       "3                                            0.0   \n",
       "4                                            0.0   \n",
       "...                                          ...   \n",
       "1025                                        90.3   \n",
       "1026                                       115.6   \n",
       "1027                                       108.6   \n",
       "1028                                         0.0   \n",
       "1029                                        78.3   \n",
       "\n",
       "      Water  (component 4)(kg in a m^3 mixture)  \\\n",
       "0                                         162.0   \n",
       "1                                         162.0   \n",
       "2                                         228.0   \n",
       "3                                         228.0   \n",
       "4                                         192.0   \n",
       "...                                         ...   \n",
       "1025                                      179.6   \n",
       "1026                                      196.0   \n",
       "1027                                      192.7   \n",
       "1028                                      175.6   \n",
       "1029                                      200.6   \n",
       "\n",
       "      Superplasticizer (component 5)(kg in a m^3 mixture)  \\\n",
       "0                                                   2.5     \n",
       "1                                                   2.5     \n",
       "2                                                   0.0     \n",
       "3                                                   0.0     \n",
       "4                                                   0.0     \n",
       "...                                                 ...     \n",
       "1025                                                8.9     \n",
       "1026                                               10.4     \n",
       "1027                                                6.1     \n",
       "1028                                               11.3     \n",
       "1029                                                8.6     \n",
       "\n",
       "      Coarse Aggregate  (component 6)(kg in a m^3 mixture)  \\\n",
       "0                                                1040.0      \n",
       "1                                                1055.0      \n",
       "2                                                 932.0      \n",
       "3                                                 932.0      \n",
       "4                                                 978.4      \n",
       "...                                                 ...      \n",
       "1025                                              870.1      \n",
       "1026                                              817.9      \n",
       "1027                                              892.4      \n",
       "1028                                              989.6      \n",
       "1029                                              864.5      \n",
       "\n",
       "      Fine Aggregate (component 7)(kg in a m^3 mixture)  Age (day)  \\\n",
       "0                                                 676.0         28   \n",
       "1                                                 676.0         28   \n",
       "2                                                 594.0        270   \n",
       "3                                                 594.0        365   \n",
       "4                                                 825.5        360   \n",
       "...                                                 ...        ...   \n",
       "1025                                              768.3         28   \n",
       "1026                                              813.4         28   \n",
       "1027                                              780.0         28   \n",
       "1028                                              788.9         28   \n",
       "1029                                              761.5         28   \n",
       "\n",
       "      Concrete compressive strength(MPa, megapascals)   \n",
       "0                                            79.986111  \n",
       "1                                            61.887366  \n",
       "2                                            40.269535  \n",
       "3                                            41.052780  \n",
       "4                                            44.296075  \n",
       "...                                                ...  \n",
       "1025                                         44.284354  \n",
       "1026                                         31.178794  \n",
       "1027                                         23.696601  \n",
       "1028                                         32.768036  \n",
       "1029                                         32.401235  \n",
       "\n",
       "[1030 rows x 9 columns]"
      ]
     },
     "execution_count": 2,
     "metadata": {},
     "output_type": "execute_result"
    }
   ],
   "source": [
    "data = pd.read_excel('Concrete_Data.xls')\n",
    "data"
   ]
  },
  {
   "cell_type": "markdown",
   "metadata": {
    "colab_type": "text",
    "id": "tP1YH_c-UAGf"
   },
   "source": [
    "# **Data** **Preprocessing**"
   ]
  },
  {
   "cell_type": "markdown",
   "metadata": {
    "colab_type": "text",
    "id": "viFbXU-vVnZA"
   },
   "source": [
    "## **Study** **Features**"
   ]
  },
  {
   "cell_type": "code",
   "execution_count": 3,
   "metadata": {
    "colab": {
     "base_uri": "https://localhost:8080/",
     "height": 754
    },
    "colab_type": "code",
    "id": "Zxm_2yREMMHs",
    "outputId": "4912c9a2-d976-418e-f3cd-bf54693b3f95"
   },
   "outputs": [
    {
     "data": {
      "text/html": [
       "<style  type=\"text/css\" >\n",
       "    #T_756fea22_6b6b_11ea_98e1_73050deeba4erow0_col0 {\n",
       "            background-color:  #b40426;\n",
       "            color:  #f1f1f1;\n",
       "        }    #T_756fea22_6b6b_11ea_98e1_73050deeba4erow0_col1 {\n",
       "            background-color:  #455cce;\n",
       "            color:  #f1f1f1;\n",
       "        }    #T_756fea22_6b6b_11ea_98e1_73050deeba4erow0_col2 {\n",
       "            background-color:  #3b4cc0;\n",
       "            color:  #f1f1f1;\n",
       "        }    #T_756fea22_6b6b_11ea_98e1_73050deeba4erow0_col3 {\n",
       "            background-color:  #aec9fc;\n",
       "            color:  #000000;\n",
       "        }    #T_756fea22_6b6b_11ea_98e1_73050deeba4erow0_col4 {\n",
       "            background-color:  #cfdaea;\n",
       "            color:  #000000;\n",
       "        }    #T_756fea22_6b6b_11ea_98e1_73050deeba4erow0_col5 {\n",
       "            background-color:  #6485ec;\n",
       "            color:  #000000;\n",
       "        }    #T_756fea22_6b6b_11ea_98e1_73050deeba4erow0_col6 {\n",
       "            background-color:  #6c8ff1;\n",
       "            color:  #000000;\n",
       "        }    #T_756fea22_6b6b_11ea_98e1_73050deeba4erow0_col7 {\n",
       "            background-color:  #85a8fc;\n",
       "            color:  #000000;\n",
       "        }    #T_756fea22_6b6b_11ea_98e1_73050deeba4erow0_col8 {\n",
       "            background-color:  #f3c8b2;\n",
       "            color:  #000000;\n",
       "        }    #T_756fea22_6b6b_11ea_98e1_73050deeba4erow1_col0 {\n",
       "            background-color:  #5572df;\n",
       "            color:  #000000;\n",
       "        }    #T_756fea22_6b6b_11ea_98e1_73050deeba4erow1_col1 {\n",
       "            background-color:  #b40426;\n",
       "            color:  #f1f1f1;\n",
       "        }    #T_756fea22_6b6b_11ea_98e1_73050deeba4erow1_col2 {\n",
       "            background-color:  #4a63d3;\n",
       "            color:  #f1f1f1;\n",
       "        }    #T_756fea22_6b6b_11ea_98e1_73050deeba4erow1_col3 {\n",
       "            background-color:  #d3dbe7;\n",
       "            color:  #000000;\n",
       "        }    #T_756fea22_6b6b_11ea_98e1_73050deeba4erow1_col4 {\n",
       "            background-color:  #c7d7f0;\n",
       "            color:  #000000;\n",
       "        }    #T_756fea22_6b6b_11ea_98e1_73050deeba4erow1_col5 {\n",
       "            background-color:  #3b4cc0;\n",
       "            color:  #f1f1f1;\n",
       "        }    #T_756fea22_6b6b_11ea_98e1_73050deeba4erow1_col6 {\n",
       "            background-color:  #5e7de7;\n",
       "            color:  #000000;\n",
       "        }    #T_756fea22_6b6b_11ea_98e1_73050deeba4erow1_col7 {\n",
       "            background-color:  #6180e9;\n",
       "            color:  #000000;\n",
       "        }    #T_756fea22_6b6b_11ea_98e1_73050deeba4erow1_col8 {\n",
       "            background-color:  #a9c6fd;\n",
       "            color:  #000000;\n",
       "        }    #T_756fea22_6b6b_11ea_98e1_73050deeba4erow2_col0 {\n",
       "            background-color:  #3b4cc0;\n",
       "            color:  #f1f1f1;\n",
       "        }    #T_756fea22_6b6b_11ea_98e1_73050deeba4erow2_col1 {\n",
       "            background-color:  #3b4cc0;\n",
       "            color:  #f1f1f1;\n",
       "        }    #T_756fea22_6b6b_11ea_98e1_73050deeba4erow2_col2 {\n",
       "            background-color:  #b40426;\n",
       "            color:  #f1f1f1;\n",
       "        }    #T_756fea22_6b6b_11ea_98e1_73050deeba4erow2_col3 {\n",
       "            background-color:  #89acfd;\n",
       "            color:  #000000;\n",
       "        }    #T_756fea22_6b6b_11ea_98e1_73050deeba4erow2_col4 {\n",
       "            background-color:  #f4c5ad;\n",
       "            color:  #000000;\n",
       "        }    #T_756fea22_6b6b_11ea_98e1_73050deeba4erow2_col5 {\n",
       "            background-color:  #80a3fa;\n",
       "            color:  #000000;\n",
       "        }    #T_756fea22_6b6b_11ea_98e1_73050deeba4erow2_col6 {\n",
       "            background-color:  #b5cdfa;\n",
       "            color:  #000000;\n",
       "        }    #T_756fea22_6b6b_11ea_98e1_73050deeba4erow2_col7 {\n",
       "            background-color:  #445acc;\n",
       "            color:  #f1f1f1;\n",
       "        }    #T_756fea22_6b6b_11ea_98e1_73050deeba4erow2_col8 {\n",
       "            background-color:  #6788ee;\n",
       "            color:  #000000;\n",
       "        }    #T_756fea22_6b6b_11ea_98e1_73050deeba4erow3_col0 {\n",
       "            background-color:  #84a7fc;\n",
       "            color:  #000000;\n",
       "        }    #T_756fea22_6b6b_11ea_98e1_73050deeba4erow3_col1 {\n",
       "            background-color:  #a7c5fe;\n",
       "            color:  #000000;\n",
       "        }    #T_756fea22_6b6b_11ea_98e1_73050deeba4erow3_col2 {\n",
       "            background-color:  #5977e3;\n",
       "            color:  #000000;\n",
       "        }    #T_756fea22_6b6b_11ea_98e1_73050deeba4erow3_col3 {\n",
       "            background-color:  #b40426;\n",
       "            color:  #f1f1f1;\n",
       "        }    #T_756fea22_6b6b_11ea_98e1_73050deeba4erow3_col4 {\n",
       "            background-color:  #3b4cc0;\n",
       "            color:  #f1f1f1;\n",
       "        }    #T_756fea22_6b6b_11ea_98e1_73050deeba4erow3_col5 {\n",
       "            background-color:  #536edd;\n",
       "            color:  #000000;\n",
       "        }    #T_756fea22_6b6b_11ea_98e1_73050deeba4erow3_col6 {\n",
       "            background-color:  #3b4cc0;\n",
       "            color:  #f1f1f1;\n",
       "        }    #T_756fea22_6b6b_11ea_98e1_73050deeba4erow3_col7 {\n",
       "            background-color:  #bed2f6;\n",
       "            color:  #000000;\n",
       "        }    #T_756fea22_6b6b_11ea_98e1_73050deeba4erow3_col8 {\n",
       "            background-color:  #3b4cc0;\n",
       "            color:  #f1f1f1;\n",
       "        }    #T_756fea22_6b6b_11ea_98e1_73050deeba4erow4_col0 {\n",
       "            background-color:  #afcafc;\n",
       "            color:  #000000;\n",
       "        }    #T_756fea22_6b6b_11ea_98e1_73050deeba4erow4_col1 {\n",
       "            background-color:  #96b7ff;\n",
       "            color:  #000000;\n",
       "        }    #T_756fea22_6b6b_11ea_98e1_73050deeba4erow4_col2 {\n",
       "            background-color:  #ead5c9;\n",
       "            color:  #000000;\n",
       "        }    #T_756fea22_6b6b_11ea_98e1_73050deeba4erow4_col3 {\n",
       "            background-color:  #3b4cc0;\n",
       "            color:  #f1f1f1;\n",
       "        }    #T_756fea22_6b6b_11ea_98e1_73050deeba4erow4_col4 {\n",
       "            background-color:  #b40426;\n",
       "            color:  #f1f1f1;\n",
       "        }    #T_756fea22_6b6b_11ea_98e1_73050deeba4erow4_col5 {\n",
       "            background-color:  #3e51c5;\n",
       "            color:  #f1f1f1;\n",
       "        }    #T_756fea22_6b6b_11ea_98e1_73050deeba4erow4_col6 {\n",
       "            background-color:  #d3dbe7;\n",
       "            color:  #000000;\n",
       "        }    #T_756fea22_6b6b_11ea_98e1_73050deeba4erow4_col7 {\n",
       "            background-color:  #3b4cc0;\n",
       "            color:  #f1f1f1;\n",
       "        }    #T_756fea22_6b6b_11ea_98e1_73050deeba4erow4_col8 {\n",
       "            background-color:  #dfdbd9;\n",
       "            color:  #000000;\n",
       "        }    #T_756fea22_6b6b_11ea_98e1_73050deeba4erow5_col0 {\n",
       "            background-color:  #7da0f9;\n",
       "            color:  #000000;\n",
       "        }    #T_756fea22_6b6b_11ea_98e1_73050deeba4erow5_col1 {\n",
       "            background-color:  #4358cb;\n",
       "            color:  #f1f1f1;\n",
       "        }    #T_756fea22_6b6b_11ea_98e1_73050deeba4erow5_col2 {\n",
       "            background-color:  #96b7ff;\n",
       "            color:  #000000;\n",
       "        }    #T_756fea22_6b6b_11ea_98e1_73050deeba4erow5_col3 {\n",
       "            background-color:  #9abbff;\n",
       "            color:  #000000;\n",
       "        }    #T_756fea22_6b6b_11ea_98e1_73050deeba4erow5_col4 {\n",
       "            background-color:  #88abfd;\n",
       "            color:  #000000;\n",
       "        }    #T_756fea22_6b6b_11ea_98e1_73050deeba4erow5_col5 {\n",
       "            background-color:  #b40426;\n",
       "            color:  #f1f1f1;\n",
       "        }    #T_756fea22_6b6b_11ea_98e1_73050deeba4erow5_col6 {\n",
       "            background-color:  #779af7;\n",
       "            color:  #000000;\n",
       "        }    #T_756fea22_6b6b_11ea_98e1_73050deeba4erow5_col7 {\n",
       "            background-color:  #6c8ff1;\n",
       "            color:  #000000;\n",
       "        }    #T_756fea22_6b6b_11ea_98e1_73050deeba4erow5_col8 {\n",
       "            background-color:  #5875e1;\n",
       "            color:  #000000;\n",
       "        }    #T_756fea22_6b6b_11ea_98e1_73050deeba4erow6_col0 {\n",
       "            background-color:  #6282ea;\n",
       "            color:  #000000;\n",
       "        }    #T_756fea22_6b6b_11ea_98e1_73050deeba4erow6_col1 {\n",
       "            background-color:  #445acc;\n",
       "            color:  #f1f1f1;\n",
       "        }    #T_756fea22_6b6b_11ea_98e1_73050deeba4erow6_col2 {\n",
       "            background-color:  #adc9fd;\n",
       "            color:  #000000;\n",
       "        }    #T_756fea22_6b6b_11ea_98e1_73050deeba4erow6_col3 {\n",
       "            background-color:  #6180e9;\n",
       "            color:  #000000;\n",
       "        }    #T_756fea22_6b6b_11ea_98e1_73050deeba4erow6_col4 {\n",
       "            background-color:  #e4d9d2;\n",
       "            color:  #000000;\n",
       "        }    #T_756fea22_6b6b_11ea_98e1_73050deeba4erow6_col5 {\n",
       "            background-color:  #5470de;\n",
       "            color:  #000000;\n",
       "        }    #T_756fea22_6b6b_11ea_98e1_73050deeba4erow6_col6 {\n",
       "            background-color:  #b40426;\n",
       "            color:  #f1f1f1;\n",
       "        }    #T_756fea22_6b6b_11ea_98e1_73050deeba4erow6_col7 {\n",
       "            background-color:  #4358cb;\n",
       "            color:  #f1f1f1;\n",
       "        }    #T_756fea22_6b6b_11ea_98e1_73050deeba4erow6_col8 {\n",
       "            background-color:  #5875e1;\n",
       "            color:  #000000;\n",
       "        }    #T_756fea22_6b6b_11ea_98e1_73050deeba4erow7_col0 {\n",
       "            background-color:  #adc9fd;\n",
       "            color:  #000000;\n",
       "        }    #T_756fea22_6b6b_11ea_98e1_73050deeba4erow7_col1 {\n",
       "            background-color:  #80a3fa;\n",
       "            color:  #000000;\n",
       "        }    #T_756fea22_6b6b_11ea_98e1_73050deeba4erow7_col2 {\n",
       "            background-color:  #7295f4;\n",
       "            color:  #000000;\n",
       "        }    #T_756fea22_6b6b_11ea_98e1_73050deeba4erow7_col3 {\n",
       "            background-color:  #ecd3c5;\n",
       "            color:  #000000;\n",
       "        }    #T_756fea22_6b6b_11ea_98e1_73050deeba4erow7_col4 {\n",
       "            background-color:  #97b8ff;\n",
       "            color:  #000000;\n",
       "        }    #T_756fea22_6b6b_11ea_98e1_73050deeba4erow7_col5 {\n",
       "            background-color:  #82a6fb;\n",
       "            color:  #000000;\n",
       "        }    #T_756fea22_6b6b_11ea_98e1_73050deeba4erow7_col6 {\n",
       "            background-color:  #7b9ff9;\n",
       "            color:  #000000;\n",
       "        }    #T_756fea22_6b6b_11ea_98e1_73050deeba4erow7_col7 {\n",
       "            background-color:  #b40426;\n",
       "            color:  #f1f1f1;\n",
       "        }    #T_756fea22_6b6b_11ea_98e1_73050deeba4erow7_col8 {\n",
       "            background-color:  #d7dce3;\n",
       "            color:  #000000;\n",
       "        }    #T_756fea22_6b6b_11ea_98e1_73050deeba4erow8_col0 {\n",
       "            background-color:  #f6bfa6;\n",
       "            color:  #000000;\n",
       "        }    #T_756fea22_6b6b_11ea_98e1_73050deeba4erow8_col1 {\n",
       "            background-color:  #aec9fc;\n",
       "            color:  #000000;\n",
       "        }    #T_756fea22_6b6b_11ea_98e1_73050deeba4erow8_col2 {\n",
       "            background-color:  #7ea1fa;\n",
       "            color:  #000000;\n",
       "        }    #T_756fea22_6b6b_11ea_98e1_73050deeba4erow8_col3 {\n",
       "            background-color:  #82a6fb;\n",
       "            color:  #000000;\n",
       "        }    #T_756fea22_6b6b_11ea_98e1_73050deeba4erow8_col4 {\n",
       "            background-color:  #f4c6af;\n",
       "            color:  #000000;\n",
       "        }    #T_756fea22_6b6b_11ea_98e1_73050deeba4erow8_col5 {\n",
       "            background-color:  #5673e0;\n",
       "            color:  #000000;\n",
       "        }    #T_756fea22_6b6b_11ea_98e1_73050deeba4erow8_col6 {\n",
       "            background-color:  #7a9df8;\n",
       "            color:  #000000;\n",
       "        }    #T_756fea22_6b6b_11ea_98e1_73050deeba4erow8_col7 {\n",
       "            background-color:  #cbd8ee;\n",
       "            color:  #000000;\n",
       "        }    #T_756fea22_6b6b_11ea_98e1_73050deeba4erow8_col8 {\n",
       "            background-color:  #b40426;\n",
       "            color:  #f1f1f1;\n",
       "        }</style><table id=\"T_756fea22_6b6b_11ea_98e1_73050deeba4e\" ><thead>    <tr>        <th class=\"blank level0\" ></th>        <th class=\"col_heading level0 col0\" >Cement (component 1)(kg in a m^3 mixture)</th>        <th class=\"col_heading level0 col1\" >Blast Furnace Slag (component 2)(kg in a m^3 mixture)</th>        <th class=\"col_heading level0 col2\" >Fly Ash (component 3)(kg in a m^3 mixture)</th>        <th class=\"col_heading level0 col3\" >Water  (component 4)(kg in a m^3 mixture)</th>        <th class=\"col_heading level0 col4\" >Superplasticizer (component 5)(kg in a m^3 mixture)</th>        <th class=\"col_heading level0 col5\" >Coarse Aggregate  (component 6)(kg in a m^3 mixture)</th>        <th class=\"col_heading level0 col6\" >Fine Aggregate (component 7)(kg in a m^3 mixture)</th>        <th class=\"col_heading level0 col7\" >Age (day)</th>        <th class=\"col_heading level0 col8\" >Concrete compressive strength(MPa, megapascals) </th>    </tr></thead><tbody>\n",
       "                <tr>\n",
       "                        <th id=\"T_756fea22_6b6b_11ea_98e1_73050deeba4elevel0_row0\" class=\"row_heading level0 row0\" >Cement (component 1)(kg in a m^3 mixture)</th>\n",
       "                        <td id=\"T_756fea22_6b6b_11ea_98e1_73050deeba4erow0_col0\" class=\"data row0 col0\" >1</td>\n",
       "                        <td id=\"T_756fea22_6b6b_11ea_98e1_73050deeba4erow0_col1\" class=\"data row0 col1\" >-0.275193</td>\n",
       "                        <td id=\"T_756fea22_6b6b_11ea_98e1_73050deeba4erow0_col2\" class=\"data row0 col2\" >-0.397475</td>\n",
       "                        <td id=\"T_756fea22_6b6b_11ea_98e1_73050deeba4erow0_col3\" class=\"data row0 col3\" >-0.0815436</td>\n",
       "                        <td id=\"T_756fea22_6b6b_11ea_98e1_73050deeba4erow0_col4\" class=\"data row0 col4\" >0.0927714</td>\n",
       "                        <td id=\"T_756fea22_6b6b_11ea_98e1_73050deeba4erow0_col5\" class=\"data row0 col5\" >-0.109356</td>\n",
       "                        <td id=\"T_756fea22_6b6b_11ea_98e1_73050deeba4erow0_col6\" class=\"data row0 col6\" >-0.22272</td>\n",
       "                        <td id=\"T_756fea22_6b6b_11ea_98e1_73050deeba4erow0_col7\" class=\"data row0 col7\" >0.0819473</td>\n",
       "                        <td id=\"T_756fea22_6b6b_11ea_98e1_73050deeba4erow0_col8\" class=\"data row0 col8\" >0.497833</td>\n",
       "            </tr>\n",
       "            <tr>\n",
       "                        <th id=\"T_756fea22_6b6b_11ea_98e1_73050deeba4elevel0_row1\" class=\"row_heading level0 row1\" >Blast Furnace Slag (component 2)(kg in a m^3 mixture)</th>\n",
       "                        <td id=\"T_756fea22_6b6b_11ea_98e1_73050deeba4erow1_col0\" class=\"data row1 col0\" >-0.275193</td>\n",
       "                        <td id=\"T_756fea22_6b6b_11ea_98e1_73050deeba4erow1_col1\" class=\"data row1 col1\" >1</td>\n",
       "                        <td id=\"T_756fea22_6b6b_11ea_98e1_73050deeba4erow1_col2\" class=\"data row1 col2\" >-0.323569</td>\n",
       "                        <td id=\"T_756fea22_6b6b_11ea_98e1_73050deeba4erow1_col3\" class=\"data row1 col3\" >0.107286</td>\n",
       "                        <td id=\"T_756fea22_6b6b_11ea_98e1_73050deeba4erow1_col4\" class=\"data row1 col4\" >0.0433757</td>\n",
       "                        <td id=\"T_756fea22_6b6b_11ea_98e1_73050deeba4erow1_col5\" class=\"data row1 col5\" >-0.283998</td>\n",
       "                        <td id=\"T_756fea22_6b6b_11ea_98e1_73050deeba4erow1_col6\" class=\"data row1 col6\" >-0.281593</td>\n",
       "                        <td id=\"T_756fea22_6b6b_11ea_98e1_73050deeba4erow1_col7\" class=\"data row1 col7\" >-0.0442458</td>\n",
       "                        <td id=\"T_756fea22_6b6b_11ea_98e1_73050deeba4erow1_col8\" class=\"data row1 col8\" >0.134824</td>\n",
       "            </tr>\n",
       "            <tr>\n",
       "                        <th id=\"T_756fea22_6b6b_11ea_98e1_73050deeba4elevel0_row2\" class=\"row_heading level0 row2\" >Fly Ash (component 3)(kg in a m^3 mixture)</th>\n",
       "                        <td id=\"T_756fea22_6b6b_11ea_98e1_73050deeba4erow2_col0\" class=\"data row2 col0\" >-0.397475</td>\n",
       "                        <td id=\"T_756fea22_6b6b_11ea_98e1_73050deeba4erow2_col1\" class=\"data row2 col1\" >-0.323569</td>\n",
       "                        <td id=\"T_756fea22_6b6b_11ea_98e1_73050deeba4erow2_col2\" class=\"data row2 col2\" >1</td>\n",
       "                        <td id=\"T_756fea22_6b6b_11ea_98e1_73050deeba4erow2_col3\" class=\"data row2 col3\" >-0.257044</td>\n",
       "                        <td id=\"T_756fea22_6b6b_11ea_98e1_73050deeba4erow2_col4\" class=\"data row2 col4\" >0.37734</td>\n",
       "                        <td id=\"T_756fea22_6b6b_11ea_98e1_73050deeba4erow2_col5\" class=\"data row2 col5\" >-0.00997679</td>\n",
       "                        <td id=\"T_756fea22_6b6b_11ea_98e1_73050deeba4erow2_col6\" class=\"data row2 col6\" >0.0790764</td>\n",
       "                        <td id=\"T_756fea22_6b6b_11ea_98e1_73050deeba4erow2_col7\" class=\"data row2 col7\" >-0.15437</td>\n",
       "                        <td id=\"T_756fea22_6b6b_11ea_98e1_73050deeba4erow2_col8\" class=\"data row2 col8\" >-0.105753</td>\n",
       "            </tr>\n",
       "            <tr>\n",
       "                        <th id=\"T_756fea22_6b6b_11ea_98e1_73050deeba4elevel0_row3\" class=\"row_heading level0 row3\" >Water  (component 4)(kg in a m^3 mixture)</th>\n",
       "                        <td id=\"T_756fea22_6b6b_11ea_98e1_73050deeba4erow3_col0\" class=\"data row3 col0\" >-0.0815436</td>\n",
       "                        <td id=\"T_756fea22_6b6b_11ea_98e1_73050deeba4erow3_col1\" class=\"data row3 col1\" >0.107286</td>\n",
       "                        <td id=\"T_756fea22_6b6b_11ea_98e1_73050deeba4erow3_col2\" class=\"data row3 col2\" >-0.257044</td>\n",
       "                        <td id=\"T_756fea22_6b6b_11ea_98e1_73050deeba4erow3_col3\" class=\"data row3 col3\" >1</td>\n",
       "                        <td id=\"T_756fea22_6b6b_11ea_98e1_73050deeba4erow3_col4\" class=\"data row3 col4\" >-0.657464</td>\n",
       "                        <td id=\"T_756fea22_6b6b_11ea_98e1_73050deeba4erow3_col5\" class=\"data row3 col5\" >-0.182312</td>\n",
       "                        <td id=\"T_756fea22_6b6b_11ea_98e1_73050deeba4erow3_col6\" class=\"data row3 col6\" >-0.450635</td>\n",
       "                        <td id=\"T_756fea22_6b6b_11ea_98e1_73050deeba4erow3_col7\" class=\"data row3 col7\" >0.277604</td>\n",
       "                        <td id=\"T_756fea22_6b6b_11ea_98e1_73050deeba4erow3_col8\" class=\"data row3 col8\" >-0.289613</td>\n",
       "            </tr>\n",
       "            <tr>\n",
       "                        <th id=\"T_756fea22_6b6b_11ea_98e1_73050deeba4elevel0_row4\" class=\"row_heading level0 row4\" >Superplasticizer (component 5)(kg in a m^3 mixture)</th>\n",
       "                        <td id=\"T_756fea22_6b6b_11ea_98e1_73050deeba4erow4_col0\" class=\"data row4 col0\" >0.0927714</td>\n",
       "                        <td id=\"T_756fea22_6b6b_11ea_98e1_73050deeba4erow4_col1\" class=\"data row4 col1\" >0.0433757</td>\n",
       "                        <td id=\"T_756fea22_6b6b_11ea_98e1_73050deeba4erow4_col2\" class=\"data row4 col2\" >0.37734</td>\n",
       "                        <td id=\"T_756fea22_6b6b_11ea_98e1_73050deeba4erow4_col3\" class=\"data row4 col3\" >-0.657464</td>\n",
       "                        <td id=\"T_756fea22_6b6b_11ea_98e1_73050deeba4erow4_col4\" class=\"data row4 col4\" >1</td>\n",
       "                        <td id=\"T_756fea22_6b6b_11ea_98e1_73050deeba4erow4_col5\" class=\"data row4 col5\" >-0.266303</td>\n",
       "                        <td id=\"T_756fea22_6b6b_11ea_98e1_73050deeba4erow4_col6\" class=\"data row4 col6\" >0.222501</td>\n",
       "                        <td id=\"T_756fea22_6b6b_11ea_98e1_73050deeba4erow4_col7\" class=\"data row4 col7\" >-0.192717</td>\n",
       "                        <td id=\"T_756fea22_6b6b_11ea_98e1_73050deeba4erow4_col8\" class=\"data row4 col8\" >0.366102</td>\n",
       "            </tr>\n",
       "            <tr>\n",
       "                        <th id=\"T_756fea22_6b6b_11ea_98e1_73050deeba4elevel0_row5\" class=\"row_heading level0 row5\" >Coarse Aggregate  (component 6)(kg in a m^3 mixture)</th>\n",
       "                        <td id=\"T_756fea22_6b6b_11ea_98e1_73050deeba4erow5_col0\" class=\"data row5 col0\" >-0.109356</td>\n",
       "                        <td id=\"T_756fea22_6b6b_11ea_98e1_73050deeba4erow5_col1\" class=\"data row5 col1\" >-0.283998</td>\n",
       "                        <td id=\"T_756fea22_6b6b_11ea_98e1_73050deeba4erow5_col2\" class=\"data row5 col2\" >-0.00997679</td>\n",
       "                        <td id=\"T_756fea22_6b6b_11ea_98e1_73050deeba4erow5_col3\" class=\"data row5 col3\" >-0.182312</td>\n",
       "                        <td id=\"T_756fea22_6b6b_11ea_98e1_73050deeba4erow5_col4\" class=\"data row5 col4\" >-0.266303</td>\n",
       "                        <td id=\"T_756fea22_6b6b_11ea_98e1_73050deeba4erow5_col5\" class=\"data row5 col5\" >1</td>\n",
       "                        <td id=\"T_756fea22_6b6b_11ea_98e1_73050deeba4erow5_col6\" class=\"data row5 col6\" >-0.178506</td>\n",
       "                        <td id=\"T_756fea22_6b6b_11ea_98e1_73050deeba4erow5_col7\" class=\"data row5 col7\" >-0.00301551</td>\n",
       "                        <td id=\"T_756fea22_6b6b_11ea_98e1_73050deeba4erow5_col8\" class=\"data row5 col8\" >-0.164928</td>\n",
       "            </tr>\n",
       "            <tr>\n",
       "                        <th id=\"T_756fea22_6b6b_11ea_98e1_73050deeba4elevel0_row6\" class=\"row_heading level0 row6\" >Fine Aggregate (component 7)(kg in a m^3 mixture)</th>\n",
       "                        <td id=\"T_756fea22_6b6b_11ea_98e1_73050deeba4erow6_col0\" class=\"data row6 col0\" >-0.22272</td>\n",
       "                        <td id=\"T_756fea22_6b6b_11ea_98e1_73050deeba4erow6_col1\" class=\"data row6 col1\" >-0.281593</td>\n",
       "                        <td id=\"T_756fea22_6b6b_11ea_98e1_73050deeba4erow6_col2\" class=\"data row6 col2\" >0.0790764</td>\n",
       "                        <td id=\"T_756fea22_6b6b_11ea_98e1_73050deeba4erow6_col3\" class=\"data row6 col3\" >-0.450635</td>\n",
       "                        <td id=\"T_756fea22_6b6b_11ea_98e1_73050deeba4erow6_col4\" class=\"data row6 col4\" >0.222501</td>\n",
       "                        <td id=\"T_756fea22_6b6b_11ea_98e1_73050deeba4erow6_col5\" class=\"data row6 col5\" >-0.178506</td>\n",
       "                        <td id=\"T_756fea22_6b6b_11ea_98e1_73050deeba4erow6_col6\" class=\"data row6 col6\" >1</td>\n",
       "                        <td id=\"T_756fea22_6b6b_11ea_98e1_73050deeba4erow6_col7\" class=\"data row6 col7\" >-0.156094</td>\n",
       "                        <td id=\"T_756fea22_6b6b_11ea_98e1_73050deeba4erow6_col8\" class=\"data row6 col8\" >-0.167249</td>\n",
       "            </tr>\n",
       "            <tr>\n",
       "                        <th id=\"T_756fea22_6b6b_11ea_98e1_73050deeba4elevel0_row7\" class=\"row_heading level0 row7\" >Age (day)</th>\n",
       "                        <td id=\"T_756fea22_6b6b_11ea_98e1_73050deeba4erow7_col0\" class=\"data row7 col0\" >0.0819473</td>\n",
       "                        <td id=\"T_756fea22_6b6b_11ea_98e1_73050deeba4erow7_col1\" class=\"data row7 col1\" >-0.0442458</td>\n",
       "                        <td id=\"T_756fea22_6b6b_11ea_98e1_73050deeba4erow7_col2\" class=\"data row7 col2\" >-0.15437</td>\n",
       "                        <td id=\"T_756fea22_6b6b_11ea_98e1_73050deeba4erow7_col3\" class=\"data row7 col3\" >0.277604</td>\n",
       "                        <td id=\"T_756fea22_6b6b_11ea_98e1_73050deeba4erow7_col4\" class=\"data row7 col4\" >-0.192717</td>\n",
       "                        <td id=\"T_756fea22_6b6b_11ea_98e1_73050deeba4erow7_col5\" class=\"data row7 col5\" >-0.00301551</td>\n",
       "                        <td id=\"T_756fea22_6b6b_11ea_98e1_73050deeba4erow7_col6\" class=\"data row7 col6\" >-0.156094</td>\n",
       "                        <td id=\"T_756fea22_6b6b_11ea_98e1_73050deeba4erow7_col7\" class=\"data row7 col7\" >1</td>\n",
       "                        <td id=\"T_756fea22_6b6b_11ea_98e1_73050deeba4erow7_col8\" class=\"data row7 col8\" >0.328877</td>\n",
       "            </tr>\n",
       "            <tr>\n",
       "                        <th id=\"T_756fea22_6b6b_11ea_98e1_73050deeba4elevel0_row8\" class=\"row_heading level0 row8\" >Concrete compressive strength(MPa, megapascals) </th>\n",
       "                        <td id=\"T_756fea22_6b6b_11ea_98e1_73050deeba4erow8_col0\" class=\"data row8 col0\" >0.497833</td>\n",
       "                        <td id=\"T_756fea22_6b6b_11ea_98e1_73050deeba4erow8_col1\" class=\"data row8 col1\" >0.134824</td>\n",
       "                        <td id=\"T_756fea22_6b6b_11ea_98e1_73050deeba4erow8_col2\" class=\"data row8 col2\" >-0.105753</td>\n",
       "                        <td id=\"T_756fea22_6b6b_11ea_98e1_73050deeba4erow8_col3\" class=\"data row8 col3\" >-0.289613</td>\n",
       "                        <td id=\"T_756fea22_6b6b_11ea_98e1_73050deeba4erow8_col4\" class=\"data row8 col4\" >0.366102</td>\n",
       "                        <td id=\"T_756fea22_6b6b_11ea_98e1_73050deeba4erow8_col5\" class=\"data row8 col5\" >-0.164928</td>\n",
       "                        <td id=\"T_756fea22_6b6b_11ea_98e1_73050deeba4erow8_col6\" class=\"data row8 col6\" >-0.167249</td>\n",
       "                        <td id=\"T_756fea22_6b6b_11ea_98e1_73050deeba4erow8_col7\" class=\"data row8 col7\" >0.328877</td>\n",
       "                        <td id=\"T_756fea22_6b6b_11ea_98e1_73050deeba4erow8_col8\" class=\"data row8 col8\" >1</td>\n",
       "            </tr>\n",
       "    </tbody></table>"
      ],
      "text/plain": [
       "<pandas.io.formats.style.Styler at 0x7fd33a02ff60>"
      ]
     },
     "execution_count": 3,
     "metadata": {},
     "output_type": "execute_result"
    }
   ],
   "source": [
    "corr = data.corr()\n",
    "corr.style.background_gradient(cmap='coolwarm')"
   ]
  },
  {
   "cell_type": "markdown",
   "metadata": {
    "colab_type": "text",
    "id": "uNZPyN03UGa7"
   },
   "source": [
    "## **Drop** **Features** "
   ]
  },
  {
   "cell_type": "code",
   "execution_count": 4,
   "metadata": {
    "colab": {},
    "colab_type": "code",
    "id": "o_z9B4UvPmEe"
   },
   "outputs": [],
   "source": [
    "dataset = data.drop('Fly Ash (component 3)(kg in a m^3 mixture)', axis=1)"
   ]
  },
  {
   "cell_type": "markdown",
   "metadata": {
    "colab_type": "text",
    "id": "8mNv6JSKUQVR"
   },
   "source": [
    "## **Split** **data** **into** **features** **and** **labels**"
   ]
  },
  {
   "cell_type": "code",
   "execution_count": 5,
   "metadata": {
    "colab": {
     "base_uri": "https://localhost:8080/",
     "height": 34
    },
    "colab_type": "code",
    "id": "coh41ia1MSig",
    "outputId": "09bf0e08-e356-4901-ba7c-05b0f9f45c4b"
   },
   "outputs": [
    {
     "name": "stdout",
     "output_type": "stream",
     "text": [
      "shape of X:  (1030, 7)\n"
     ]
    }
   ],
   "source": [
    "X = dataset.iloc[:,:-1].values\n",
    "y = dataset.iloc[:,-1].values\n",
    "print('shape of X: ',X.shape)"
   ]
  },
  {
   "cell_type": "markdown",
   "metadata": {
    "colab_type": "text",
    "id": "prFWfE5tWkSB"
   },
   "source": [
    "## **split** **features** **into** **train** **and** **test**"
   ]
  },
  {
   "cell_type": "code",
   "execution_count": 6,
   "metadata": {
    "colab": {},
    "colab_type": "code",
    "id": "HNDVE1ekMX3F"
   },
   "outputs": [],
   "source": [
    "X_train, X_test, y_train, y_test = train_test_split(X, y, test_size=0.2, random_state=0)"
   ]
  },
  {
   "cell_type": "markdown",
   "metadata": {
    "colab_type": "text",
    "id": "8ZhzQZLxWxVO"
   },
   "source": [
    "## **Standardization**"
   ]
  },
  {
   "cell_type": "code",
   "execution_count": 7,
   "metadata": {
    "colab": {},
    "colab_type": "code",
    "id": "dacDCn-xMdqU"
   },
   "outputs": [],
   "source": [
    "\n",
    "Sc = StandardScaler()\n",
    "X_train = Sc.fit_transform(X_train)\n",
    "X_test = Sc.transform(X_test)"
   ]
  },
  {
   "cell_type": "markdown",
   "metadata": {
    "colab_type": "text",
    "id": "l0doNF8YW6sN"
   },
   "source": [
    "# **Polynomial** **Regression**"
   ]
  },
  {
   "cell_type": "code",
   "execution_count": 28,
   "metadata": {
    "colab": {},
    "colab_type": "code",
    "id": "CFlNIjfnMifs"
   },
   "outputs": [],
   "source": [
    "###### Simple Linear Regression ######## \n",
    "def lin_reg_model():\n",
    "    lin_reg = LinearRegression()       # Instantiate Simple Regression model\n",
    "    lin_reg.fit(X_train, y_train)      # Train the model\n",
    "    y_pred = lin_reg.predict(X_test)   # Test the model\n",
    "    lin_R2 = r2_score(y_test, y_pred)  # R squared to evaluate the model\n",
    "    return (lin_R2, y_pred)\n",
    "\n",
    "######## Finding best degree for Polynomial Regression ###########\n",
    "def find_best_degree():\n",
    "    max_R = 0                                                  # Maximum R squared of polynomial Regression model\n",
    "    best_degree = 0                                            # Best degree for Polynomial Regression model\n",
    "    for degree in range(1,13):\n",
    "        poly_1 = PolynomialFeatures(degree=degree)             # Instantiate polynomial Features \n",
    "        poly_X_train = poly_1.fit_transform(X_train)           # Train Polynomial Features\n",
    "        lin_reg = LinearRegression()                           # Instantiate Simple Regression model\n",
    "        lin_reg.fit(poly_X_train, y_train)                     # Apply Simple Regression on Polynomial Features\n",
    "        poly_X_test = poly_1.transform(X_test)                 # Test the model\n",
    "        R2 = r2_score(y_test, lin_reg.predict(poly_X_test))    # R squared of Linear Regression model\n",
    "        if R2 > max_R:\n",
    "            max_R = R2\n",
    "            best_degree = degree\n",
    "    return (best_degree, max_R)\n",
    "\n",
    "\n",
    "########### Finding best alphha for ridge model #############\n",
    "def find_best_alpha_ridge(best_degree):\n",
    "    max_R2 = 0                                                                 # Maximum R squared of Ridge model\n",
    "    for alpha in [1e-15, 1e-10, 1e-8, 1e-4, 1e-3,1e-2, 1, 5, 10, 20]:\n",
    "        poly_2 = PolynomialFeatures(degree=best_degree)                        # Instantiate polynomial Features\n",
    "        ridge_1 = Ridge(alpha=alpha, normalize=True)                           # Instantiate Ridge model\n",
    "        ridge_1.fit(poly_2.fit_transform(X_train), y_train)             # Apply Ridge model on Polynomial Features\n",
    "        R2_ridge = r2_score(y_test, ridge_1.predict(poly_2.transform(X_test))) # R squared of Ridge model\n",
    "        if R2_ridge >max_R2:\n",
    "            max_R2 = R2_ridge\n",
    "            best_alpha = alpha\n",
    "    return (best_alpha, max_R2)\n",
    "\n",
    "\n",
    "########### finding best alpha for Lasso model #########\n",
    "def find_best_alpha_lasso(best_degree):\n",
    "    max_r2=0                                                                    # Maximum R squared of Lasso model\n",
    "    for alpha in [1e-15, 1e-10, 1e-8, 1e-5,1e-4, 1e-3,1e-2, 1, 5, 10,20,30,40]:\n",
    "        poly_3 = PolynomialFeatures(best_degree)                                # Instantiate polynomial Features\n",
    "        lasso_2 = Lasso(alpha=alpha, normalize=True)                            # Instantiate Lasso model\n",
    "        lasso_2.fit(poly_3.fit_transform(X_train), y_train)             # Apply Lasso model on Polynomial Features\n",
    "        lasso_R2 = r2_score(y_test, lasso_2.predict(poly_3.transform(X_test)))  # R squared of Lasso model\n",
    "        if lasso_R2 > max_r2:\n",
    "            max_r2 = lasso_R2\n",
    "            best_alpha = alpha\n",
    "        \n",
    "    count = 0                               # Number of selected Features by Lasso model\n",
    "    for i in lasso_2.coef_:\n",
    "        if i != 0:\n",
    "            count+=1\n",
    "    #pd.DataFrame(lasso_2.coef_) \n",
    "    return (best_alpha, max_r2, count)     \n",
    "\n",
    "\n",
    "########### Finding best regressor with highest R squared ############\n",
    "def find_best_regressor(X_train, y_train, X_test, y_test):\n",
    "    ########### LINEAR REGRESSION #############\n",
    "    lin_R2, y_pred = lin_reg_model()\n",
    "    best_degree=1\n",
    "    best_alpha=0\n",
    "    ########### POLYNOMIAL REGRESSION #############\n",
    "    best_degree, poly_R2 = find_best_degree()\n",
    "    \n",
    "    ### RIDGE ###\n",
    "    best_alpha, max_R2_ridge = find_best_alpha_ridge(best_degree)\n",
    "    \n",
    "    ### LASSO ###\n",
    "    best_alpha, max_R2_lasso, count = find_best_alpha_lasso(best_degree)\n",
    "    \n",
    "    R2 =[lin_R2, max_R2_ridge, max_R2_lasso]\n",
    "    best_R2 = max(R2)\n",
    "    if best_R2 == lin_R2:\n",
    "        best_regressor = 'Linear Regression'\n",
    "        return(best_regressor, best_degree, best_R2)\n",
    "    elif best_R2 == max_R2_ridge:\n",
    "        best_regressor = 'Ridge'\n",
    "        return(best_regressor, best_degree, best_R2)\n",
    "    else:\n",
    "        best_regressor = 'Lasso'\n",
    "        return(best_regressor, best_degree, best_alpha, best_R2)"
   ]
  },
  {
   "cell_type": "markdown",
   "metadata": {
    "colab_type": "text",
    "id": "S6NPDDmsXdeg"
   },
   "source": [
    "## **finding** **best** **parameters**"
   ]
  },
  {
   "cell_type": "code",
   "execution_count": 29,
   "metadata": {
    "colab": {
     "base_uri": "https://localhost:8080/",
     "height": 298
    },
    "colab_type": "code",
    "id": "F-teCxhbMqg4",
    "outputId": "9d4f1fa4-f511-4138-ad74-c81bfa3546c4"
   },
   "outputs": [
    {
     "name": "stderr",
     "output_type": "stream",
     "text": [
      "/home/nada/anaconda3/lib/python3.7/site-packages/sklearn/linear_model/_ridge.py:148: LinAlgWarning: scipy.linalg.solve\n",
      "Ill-conditioned matrix detected. Result is not guaranteed to be accurate.\n",
      "Reciprocal condition number2.984664e-17\n",
      "  overwrite_a=True).T\n",
      "/home/nada/anaconda3/lib/python3.7/site-packages/sklearn/linear_model/_coordinate_descent.py:476: ConvergenceWarning: Objective did not converge. You might want to increase the number of iterations. Duality gap: 10364.61605496124, tolerance: 23.258623112598066\n",
      "  positive)\n",
      "/home/nada/anaconda3/lib/python3.7/site-packages/sklearn/linear_model/_coordinate_descent.py:476: ConvergenceWarning: Objective did not converge. You might want to increase the number of iterations. Duality gap: 10364.613302611411, tolerance: 23.258623112598066\n",
      "  positive)\n",
      "/home/nada/anaconda3/lib/python3.7/site-packages/sklearn/linear_model/_coordinate_descent.py:476: ConvergenceWarning: Objective did not converge. You might want to increase the number of iterations. Duality gap: 10364.340820541636, tolerance: 23.258623112598066\n",
      "  positive)\n",
      "/home/nada/anaconda3/lib/python3.7/site-packages/sklearn/linear_model/_coordinate_descent.py:476: ConvergenceWarning: Objective did not converge. You might want to increase the number of iterations. Duality gap: 10092.190888337569, tolerance: 23.258623112598066\n",
      "  positive)\n"
     ]
    },
    {
     "name": "stdout",
     "output_type": "stream",
     "text": [
      "Best Regressor: Lasso Best Degree: 3 Best Alpha: 0.001 best score: 0.8561388866597052\n"
     ]
    },
    {
     "name": "stderr",
     "output_type": "stream",
     "text": [
      "/home/nada/anaconda3/lib/python3.7/site-packages/sklearn/linear_model/_coordinate_descent.py:476: ConvergenceWarning: Objective did not converge. You might want to increase the number of iterations. Duality gap: 7552.663262553206, tolerance: 23.258623112598066\n",
      "  positive)\n",
      "/home/nada/anaconda3/lib/python3.7/site-packages/sklearn/linear_model/_coordinate_descent.py:476: ConvergenceWarning: Objective did not converge. You might want to increase the number of iterations. Duality gap: 496.155222309666, tolerance: 23.258623112598066\n",
      "  positive)\n"
     ]
    }
   ],
   "source": [
    "best_regressor, best_degree, best_alpha, best_R2 =  find_best_regressor(X_train, y_train, X_test, y_test)\n",
    "print('Best Regressor:', best_regressor, 'Best Degree:',\n",
    "      best_degree, 'Best Alpha:', best_alpha, 'best score:', best_R2)"
   ]
  },
  {
   "cell_type": "markdown",
   "metadata": {
    "colab_type": "text",
    "id": "D3Rtki9vX2vb"
   },
   "source": [
    "## **Build**, **train** **and** **test** **model**"
   ]
  },
  {
   "cell_type": "code",
   "execution_count": 18,
   "metadata": {
    "colab": {
     "base_uri": "https://localhost:8080/",
     "height": 388
    },
    "colab_type": "code",
    "id": "Bd4nf4jLUEqS",
    "outputId": "cb96bf22-002b-4f5d-f7db-1208a815aad0"
   },
   "outputs": [
    {
     "name": "stdout",
     "output_type": "stream",
     "text": [
      "R2 for Lasso 0.8561388866597052\n"
     ]
    },
    {
     "name": "stderr",
     "output_type": "stream",
     "text": [
      "/home/nada/anaconda3/lib/python3.7/site-packages/sklearn/linear_model/_coordinate_descent.py:476: ConvergenceWarning: Objective did not converge. You might want to increase the number of iterations. Duality gap: 496.155222309666, tolerance: 23.258623112598066\n",
      "  positive)\n"
     ]
    },
    {
     "data": {
      "text/plain": [
       "[<matplotlib.lines.Line2D at 0x7fd364cebf60>,\n",
       " <matplotlib.lines.Line2D at 0x7fd364d077b8>]"
      ]
     },
     "execution_count": 18,
     "metadata": {},
     "output_type": "execute_result"
    },
    {
     "data": {
      "image/png": "[encoded data removed]",
      "text/plain": [
       "<Figure size 720x576 with 1 Axes>"
      ]
     },
     "metadata": {
      "needs_background": "light"
     },
     "output_type": "display_data"
    }
   ],
   "source": [
    "poly = PolynomialFeatures(degree=best_degree)                      # Instantiate polynomial Features\n",
    "lasso = Lasso(alpha=best_alpha, normalize=True)                    # Instantiate Lasso model\n",
    "lasso.fit(poly.fit_transform(X_train), y_train)                    # Apply Lasso model on Polynomial Features\n",
    "R2_lasso = r2_score(y_test, lasso.predict(poly.transform(X_test)))  # R squared of Lasso model\n",
    "print('R2 for Lasso', R2_lasso)\n",
    "plt.figure(figsize=(10,8))\n",
    "plt.title('Polynomial Regression with Degree=%s' %best_degree, fontsize=24 , fontstyle='italic')\n",
    "# Plotting y_predicted vs y_actual\n",
    "plt.plot((np.sort(y_test.ravel())), '.', np.sort(lasso.predict(poly.transform(X_test))), '.')"
   ]
  },
  {
   "cell_type": "markdown",
   "metadata": {
    "colab_type": "text",
    "id": "b3VW_38ZYUvw"
   },
   "source": [
    "# **Finding** **best** **parameters** **for** **Decision** **Tree** **using** **Grid** **Search**"
   ]
  },
  {
   "cell_type": "code",
   "execution_count": 30,
   "metadata": {
    "colab": {
     "base_uri": "https://localhost:8080/",
     "height": 52
    },
    "colab_type": "code",
    "id": "I2cGua5OCEHz",
    "outputId": "2ce4a514-4faa-47a6-d2ee-dacead602163"
   },
   "outputs": [
    {
     "name": "stdout",
     "output_type": "stream",
     "text": [
      "best accuracy is : 0.8406930115323016\n"
     ]
    },
    {
     "data": {
      "text/plain": [
       "{'max_depth': 19, 'min_samples_leaf': 1}"
      ]
     },
     "execution_count": 30,
     "metadata": {},
     "output_type": "execute_result"
    }
   ],
   "source": [
    "DT = DecisionTreeRegressor(random_state=0)                                       # Instantiate Decision Tree model\n",
    "parameters = [{'max_depth': np.arange(30), 'min_samples_leaf': [1,2,3,4,5]}]     # Set parameters of the model\n",
    "\n",
    "\n",
    "grid_search = GridSearchCV(estimator = DT, param_grid = parameters,        \n",
    "                           cv = 7, n_jobs =  -1)                                 # Instantiate Grid Search model\n",
    " \n",
    "grid_search = grid_search.fit(X_train, y_train)                                  # Train Grid Search model\n",
    " \n",
    "print(\"best accuracy is :\" , grid_search.best_score_)                            # Display best accuracy\n",
    "\n",
    "grid_search.best_params_ # best_parms_  is a method in Grid Search to return The Best with resepct to the Metric "
   ]
  },
  {
   "cell_type": "markdown",
   "metadata": {
    "colab_type": "text",
    "id": "FXGvc7juYvAX"
   },
   "source": [
    "## **Build**, **train** **and** **test** **the** **model**"
   ]
  },
  {
   "cell_type": "code",
   "execution_count": 31,
   "metadata": {
    "colab": {
     "base_uri": "https://localhost:8080/",
     "height": 350
    },
    "colab_type": "code",
    "id": "uZVCaGXWQo4B",
    "outputId": "6a5b8d30-7a53-4cbd-9e4c-128b6073b555"
   },
   "outputs": [
    {
     "name": "stdout",
     "output_type": "stream",
     "text": [
      "train_score 0.9806782707523526\n",
      "test_score 0.8405891179889362\n"
     ]
    },
    {
     "data": {
      "text/plain": [
       "[<matplotlib.lines.Line2D at 0x7fd364a8b2e8>,\n",
       " <matplotlib.lines.Line2D at 0x7fd364a50e10>]"
      ]
     },
     "execution_count": 31,
     "metadata": {},
     "output_type": "execute_result"
    },
    {
     "data": {
      "image/png": "[encoded data removed]",
      "text/plain": [
       "<Figure size 720x576 with 1 Axes>"
      ]
     },
     "metadata": {
      "needs_background": "light"
     },
     "output_type": "display_data"
    }
   ],
   "source": [
    "DT = DecisionTreeRegressor(max_depth=19, min_samples_leaf=2, random_state=0)    # Instantiate Decision Tree model\n",
    "DT.fit(X_train, y_train)                                                        # Train Random Forest model\n",
    "print('train_score', DT.score(X_train, y_train))                                # Display train accuracy\n",
    "print('test_score', DT.score(X_test, y_test))                                   # Display test accuracy\n",
    "plt.figure(figsize=(10,8))\n",
    "plt.title('Decision Tree Regressor', fontsize=24 , fontstyle='italic')\n",
    "plt.plot(np.sort(y_test.ravel()), '.', np.sort(DT.predict(X_test)), '.')        # Plotting y_predicted vs y_actual"
   ]
  },
  {
   "cell_type": "markdown",
   "metadata": {
    "colab_type": "text",
    "id": "U9vGCe3IZHdo"
   },
   "source": [
    "# **Finding** **best** **parameters** **for** **Random** **Forest** **using** **Grid** **Search**"
   ]
  },
  {
   "cell_type": "code",
   "execution_count": 157,
   "metadata": {
    "colab": {
     "base_uri": "https://localhost:8080/",
     "height": 350
    },
    "colab_type": "code",
    "id": "G_o03PQPIocH",
    "outputId": "1ae44841-e4e0-4978-db2a-f28544268c63"
   },
   "outputs": [
    {
     "name": "stdout",
     "output_type": "stream",
     "text": [
      "Fitting 7 folds for each of 243 candidates, totalling 1701 fits\n"
     ]
    },
    {
     "name": "stderr",
     "output_type": "stream",
     "text": [
      "[Parallel(n_jobs=-1)]: Using backend LokyBackend with 4 concurrent workers.\n",
      "[Parallel(n_jobs=-1)]: Done  33 tasks      | elapsed:   11.0s\n",
      "[Parallel(n_jobs=-1)]: Done 154 tasks      | elapsed:  1.1min\n",
      "[Parallel(n_jobs=-1)]: Done 357 tasks      | elapsed:  2.8min\n",
      "[Parallel(n_jobs=-1)]: Done 640 tasks      | elapsed:  5.1min\n",
      "[Parallel(n_jobs=-1)]: Done 1005 tasks      | elapsed:  8.1min\n",
      "[Parallel(n_jobs=-1)]: Done 1450 tasks      | elapsed: 11.6min\n",
      "[Parallel(n_jobs=-1)]: Done 1701 out of 1701 | elapsed: 13.7min finished\n",
      "/usr/local/lib/python3.6/dist-packages/sklearn/model_selection/_search.py:739: DataConversionWarning: A column-vector y was passed when a 1d array was expected. Please change the shape of y to (n_samples,), for example using ravel().\n",
      "  self.best_estimator_.fit(X, y, **fit_params)\n"
     ]
    },
    {
     "name": "stdout",
     "output_type": "stream",
     "text": [
      "best accuracy is : 0.8994427647700831\n"
     ]
    },
    {
     "data": {
      "text/plain": [
       "{'bootstrap': True,\n",
       " 'max_depth': 78,\n",
       " 'max_features': 6,\n",
       " 'min_samples_leaf': 1,\n",
       " 'min_samples_split': 2,\n",
       " 'n_estimators': 500}"
      ]
     },
     "execution_count": 157,
     "metadata": {
      "tags": []
     },
     "output_type": "execute_result"
    }
   ],
   "source": [
    "param_grid = {\n",
    "    'bootstrap': [True],\n",
    "    'max_depth': [78,  80, 83],\n",
    "    'max_features': [5, 6, 7],\n",
    "    'min_samples_leaf': [1, 2, 4],\n",
    "    'min_samples_split': [1, 2, 4],\n",
    "    'n_estimators': [500, 600, 700]}                                 # Set parameters of the model\n",
    "RF = RandomForestRegressor(random_state=2)                           # Instantiate Random Forest model\n",
    "grid_search = GridSearchCV(estimator = RF, param_grid = param_grid, \n",
    "                          cv = 7, n_jobs = -1, verbose = 2)          # Instantiate Grid Search model\n",
    "grid_search = grid_search.fit(X_train, y_train)                      # Train Grid Search model\n",
    "\n",
    "print(\"best accuracy is :\" , grid_search.best_score_)                # Display best accuracy\n",
    "\n",
    "grid_search.best_params_    # best_parms_  is a method in Grid Search to return The Best with resepct to the Metric "
   ]
  },
  {
   "cell_type": "markdown",
   "metadata": {
    "colab_type": "text",
    "id": "HGoFUa9mZhX1"
   },
   "source": [
    "## **Build**, **train** **and** **test** **the** **model**"
   ]
  },
  {
   "cell_type": "code",
   "execution_count": 32,
   "metadata": {
    "colab": {
     "base_uri": "https://localhost:8080/",
     "height": 405
    },
    "colab_type": "code",
    "id": "RvM7KXTcO9nr",
    "outputId": "39c43647-5507-4fe9-d8b9-09e3829657c9"
   },
   "outputs": [
    {
     "name": "stdout",
     "output_type": "stream",
     "text": [
      "train_score 0.9854080042371535\n",
      "test_score 0.9230426049917837\n"
     ]
    },
    {
     "data": {
      "text/plain": [
       "[<matplotlib.lines.Line2D at 0x7fd364ab3518>,\n",
       " <matplotlib.lines.Line2D at 0x7fd3649e9f28>]"
      ]
     },
     "execution_count": 32,
     "metadata": {},
     "output_type": "execute_result"
    },
    {
     "data": {
      "image/png": "[encoded data removed]",
      "text/plain": [
       "<Figure size 720x576 with 1 Axes>"
      ]
     },
     "metadata": {
      "needs_background": "light"
     },
     "output_type": "display_data"
    }
   ],
   "source": [
    "RF_reg = RandomForestRegressor(n_estimators=500, max_depth=80,\n",
    "                               min_samples_leaf=1, min_samples_split=2,\n",
    "                               max_features=6, bootstrap=True, random_state=2)  # Instantiate Random forest model\n",
    "RF_reg.fit(X_train, y_train)                                                    # Train Random Forest model\n",
    "print('train_score', RF_reg.score(X_train, y_train))                            # Display train accuracy\n",
    "print('test_score', RF_reg.score(X_test, y_test))                               # Display test accuracy\n",
    "plt.figure(figsize=(10,8))\n",
    "plt.title('Random Forest Regressor', fontsize=24 , fontstyle='italic')\n",
    "plt.plot(np.sort(y_test.ravel()),'.', np.sort(RF_reg.predict(X_test)), '.')  # Plotting y_predicted vs y_actual"
   ]
  },
  {
   "cell_type": "markdown",
   "metadata": {
    "colab_type": "text",
    "id": "8E9LOsbIab17"
   },
   "source": [
    "# **Finding best parameters for XGBoost by Grid Search**"
   ]
  },
  {
   "cell_type": "code",
   "execution_count": 0,
   "metadata": {
    "colab": {
     "base_uri": "https://localhost:8080/",
     "height": 384
    },
    "colab_type": "code",
    "id": "RxUfQ5iqMZmK",
    "outputId": "dc74b6eb-fb21-4c84-83bc-c4f7b6333d3a"
   },
   "outputs": [
    {
     "name": "stdout",
     "output_type": "stream",
     "text": [
      "Fitting 7 folds for each of 144 candidates, totalling 1008 fits\n"
     ]
    },
    {
     "name": "stderr",
     "output_type": "stream",
     "text": [
      "[Parallel(n_jobs=-1)]: Using backend LokyBackend with 4 concurrent workers.\n",
      "/usr/local/lib/python3.6/dist-packages/joblib/externals/loky/process_executor.py:706: UserWarning: A worker stopped while some jobs were given to the executor. This can be caused by a too short worker timeout or by a memory leak.\n",
      "  \"timeout or by a memory leak.\", UserWarning\n",
      "[Parallel(n_jobs=-1)]: Done  33 tasks      | elapsed:   10.5s\n",
      "[Parallel(n_jobs=-1)]: Done 154 tasks      | elapsed:   39.7s\n",
      "[Parallel(n_jobs=-1)]: Done 357 tasks      | elapsed:  1.5min\n",
      "[Parallel(n_jobs=-1)]: Done 640 tasks      | elapsed:  2.7min\n",
      "[Parallel(n_jobs=-1)]: Done 1008 out of 1008 | elapsed:  4.4min finished\n"
     ]
    },
    {
     "name": "stdout",
     "output_type": "stream",
     "text": [
      "[12:15:09] WARNING: /workspace/src/objective/regression_obj.cu:152: reg:linear is now deprecated in favor of reg:squarederror.\n",
      "best accuracy is : 0.9391152720304851\n"
     ]
    },
    {
     "data": {
      "text/plain": [
       "{'alpha': 0.0,\n",
       " 'colsample_bytree': 0.8,\n",
       " 'gamma': 0.6,\n",
       " 'lambda': 0.0,\n",
       " 'learning_rate': 0.1,\n",
       " 'max_depth': 5,\n",
       " 'min_child_weight': 4,\n",
       " 'n_estimators': 900,\n",
       " 'subsample': 0.8}"
      ]
     },
     "execution_count": 19,
     "metadata": {
      "tags": []
     },
     "output_type": "execute_result"
    }
   ],
   "source": [
    "XG = XGBRegressor()                                                  # Instantiate XG Boost Regressor model\n",
    "param = {\"n_estimators\"     : [800,900],\n",
    "         \"learning_rate\"    : [0.1],\n",
    "         \"max_depth\"        : [5,6],\n",
    "         \"min_child_weight\" : [3,4],\n",
    "         \"gamma\"            : [0.5,0.6],\n",
    "         \"colsample_bytree\" : [0.7,0.8,0.9],\n",
    "         \"subsample\"        : [0.7,0.8,0.9],\n",
    "         \"alpha\"            : [0.0],\n",
    "         \"lambda\"           : [0.0]}                                 # Set parameters of the model          \n",
    "grid_search = GridSearchCV(estimator = XG, param_grid = param, \n",
    "                          cv = 7, n_jobs = -1, verbose = 2)          # Instantiate Grid Search model\n",
    "grid_search = grid_search.fit(X_train, y_train)                      # Train Gird Search model\n",
    "\n",
    "print(\"best accuracy is :\" , grid_search.best_score_)                # Display best accuracy\n",
    "\n",
    "grid_search.best_params_    # best_parms_  is a method in Grid Search to return The Best with resepct to the Metric"
   ]
  },
  {
   "cell_type": "markdown",
   "metadata": {
    "colab_type": "text",
    "id": "iigATdUiasza"
   },
   "source": [
    "## **Build, train and test the model**"
   ]
  },
  {
   "cell_type": "code",
   "execution_count": 35,
   "metadata": {
    "colab": {
     "base_uri": "https://localhost:8080/",
     "height": 368
    },
    "colab_type": "code",
    "id": "G_9sOYVEDbZz",
    "outputId": "1773bbae-c669-4386-f2d7-5a448f29ae59"
   },
   "outputs": [
    {
     "name": "stdout",
     "output_type": "stream",
     "text": [
      "train_score 0.9959481527232547\n",
      "test_score 0.9464979677649545\n"
     ]
    },
    {
     "data": {
      "text/plain": [
       "[<matplotlib.lines.Line2D at 0x7fd3648f45c0>,\n",
       " <matplotlib.lines.Line2D at 0x7fd364909ba8>]"
      ]
     },
     "execution_count": 35,
     "metadata": {},
     "output_type": "execute_result"
    },
    {
     "data": {
      "image/png": "[encoded data removed]",
      "text/plain": [
       "<Figure size 720x576 with 1 Axes>"
      ]
     },
     "metadata": {
      "needs_background": "light"
     },
     "output_type": "display_data"
    }
   ],
   "source": [
    "XGB = XGBRegressor(n_estimators=600, gamma=0.6, learning_rate=0.08,\n",
    "                   max_depth=7, min_child_weight=2, subsample=0.8,\n",
    "                   colsample_bytree=0.8, reg_alpha=0.0,\n",
    "                   reg_lambda=0, random_state=0)                             # Instantiate XG Boost Regressor model\n",
    "XGB.fit(X_train, y_train)                                                    # Train XG Boost Regressor model\n",
    "print('train_score', XGB.score(X_train, y_train))                            # Display train accuracy\n",
    "print('test_score', XGB.score(X_test, y_test))                               # Display test accuracy\n",
    "plt.figure(figsize=(10,8))\n",
    "plt.title('XG Boosting Regressor', fontsize=24 , fontstyle='italic')          \n",
    "plt.plot(np.sort(y_test.ravel()), '.', np.sort(XGB.predict(X_test)), '.')     # Plotting y_predicted vs y_actual"
   ]
  },
  {
   "cell_type": "markdown",
   "metadata": {
    "colab_type": "text",
    "id": "3V6BkWc8a_hF"
   },
   "source": [
    "# **Finding best parameters for Gradient Boosting Regressor by Grid Search**"
   ]
  },
  {
   "cell_type": "code",
   "execution_count": 0,
   "metadata": {
    "colab": {
     "base_uri": "https://localhost:8080/",
     "height": 367
    },
    "colab_type": "code",
    "id": "d3_kGLRM5hHk",
    "outputId": "a5ad9fcd-32a9-454e-d94c-7e5b17202d8f"
   },
   "outputs": [
    {
     "name": "stdout",
     "output_type": "stream",
     "text": [
      "Fitting 7 folds for each of 432 candidates, totalling 3024 fits\n"
     ]
    },
    {
     "name": "stderr",
     "output_type": "stream",
     "text": [
      "[Parallel(n_jobs=-1)]: Using backend LokyBackend with 4 concurrent workers.\n",
      "[Parallel(n_jobs=-1)]: Done  33 tasks      | elapsed:    4.4s\n",
      "[Parallel(n_jobs=-1)]: Done 154 tasks      | elapsed:   21.5s\n",
      "[Parallel(n_jobs=-1)]: Done 357 tasks      | elapsed:   54.0s\n",
      "[Parallel(n_jobs=-1)]: Done 640 tasks      | elapsed:  1.8min\n",
      "[Parallel(n_jobs=-1)]: Done 1005 tasks      | elapsed:  2.8min\n",
      "[Parallel(n_jobs=-1)]: Done 1450 tasks      | elapsed:  4.1min\n",
      "[Parallel(n_jobs=-1)]: Done 1977 tasks      | elapsed:  5.5min\n",
      "[Parallel(n_jobs=-1)]: Done 2584 tasks      | elapsed:  7.3min\n",
      "[Parallel(n_jobs=-1)]: Done 3024 out of 3024 | elapsed:  8.6min finished\n",
      "/usr/local/lib/python3.6/dist-packages/sklearn/ensemble/_gb.py:1454: DataConversionWarning: A column-vector y was passed when a 1d array was expected. Please change the shape of y to (n_samples, ), for example using ravel().\n",
      "  y = column_or_1d(y, warn=True)\n"
     ]
    },
    {
     "name": "stdout",
     "output_type": "stream",
     "text": [
      "best accuracy is : 0.9365269644298653\n"
     ]
    },
    {
     "data": {
      "text/plain": [
       "{'learning_rate': 0.1,\n",
       " 'max_depth': 4,\n",
       " 'max_features': 4,\n",
       " 'min_samples_leaf': 1,\n",
       " 'n_estimators': 500}"
      ]
     },
     "execution_count": 21,
     "metadata": {
      "tags": []
     },
     "output_type": "execute_result"
    }
   ],
   "source": [
    "GB = GradientBoostingRegressor()                                    # Instantiate Gradient Boosting Regressor model\n",
    "param = {\"n_estimators\"     : [300, 400, 500],\n",
    "         \"max_depth\"        : [4, 5, 6],\n",
    "         \"min_samples_leaf\" : [1, 2, 3, 4],\n",
    "         \"learning_rate\"    : [0.1, 0.2 , 0.3, 0.4],\n",
    "         \"max_features\"     : [4 , 5, 6]}                           # Set parameters of the model\n",
    "grid_search = GridSearchCV(estimator = GB, param_grid = param, \n",
    "                          cv = 7, n_jobs = -1, verbose = 2)         # Instantiate Grid Search model\n",
    "grid_search = grid_search.fit(X_train, y_train)                     # Train Gird Search model\n",
    "\n",
    "print(\"best accuracy is :\" , grid_search.best_score_)               # Display best accuracy             \n",
    "\n",
    "grid_search.best_params_     # best_parms_  is a method in Grid Search to return The Best with resepct to the Metric"
   ]
  },
  {
   "cell_type": "markdown",
   "metadata": {
    "colab_type": "text",
    "id": "fD_-r7PcbOj5"
   },
   "source": [
    "## **Build, train and test the model**"
   ]
  },
  {
   "cell_type": "code",
   "execution_count": 36,
   "metadata": {
    "colab": {
     "base_uri": "https://localhost:8080/",
     "height": 405
    },
    "colab_type": "code",
    "id": "kPeqQLyW2DG5",
    "outputId": "90971f67-217c-408c-8585-cf68d0dd900b"
   },
   "outputs": [
    {
     "name": "stdout",
     "output_type": "stream",
     "text": [
      "train_score 0.9922885198360166\n",
      "test_score 0.9481623076483092\n"
     ]
    },
    {
     "data": {
      "text/plain": [
       "[<matplotlib.lines.Line2D at 0x7fd36486f8d0>,\n",
       " <matplotlib.lines.Line2D at 0x7fd364885dd8>]"
      ]
     },
     "execution_count": 36,
     "metadata": {},
     "output_type": "execute_result"
    },
    {
     "data": {
      "image/png": "[encoded data removed]",
      "text/plain": [
       "<Figure size 720x576 with 1 Axes>"
      ]
     },
     "metadata": {
      "needs_background": "light"
     },
     "output_type": "display_data"
    }
   ],
   "source": [
    "GB_reg = GradientBoostingRegressor(n_estimators=1000, learning_rate=0.08,\n",
    "                                   min_samples_leaf=2, max_depth=4,\n",
    "                                   max_features=1, random_state=0)  # Instantiate Gradient Boosting Regressor model\n",
    "GB_reg.fit(X_train, y_train)                                        # Train Gradient Boost Regressor model\n",
    "print('train_score', GB_reg.score(X_train, y_train))                # Display train accuracy\n",
    "print('test_score', GB_reg.score(X_test, y_test))                   # Display test accuracy   \n",
    "plt.figure(figsize=(10,8))\n",
    "plt.title('Gradient Boosting Regressor', fontsize=24 , fontstyle='italic')\n",
    "plt.plot(np.sort(y_test.ravel()), '.', np.sort(GB_reg.predict(X_test)), '.')    # Plotting y_predicted vs y_actual\n",
    "  "
   ]
  },
  {
   "cell_type": "code",
   "execution_count": null,
   "metadata": {},
   "outputs": [],
   "source": []
  }
 ],
 "metadata": {
  "accelerator": "GPU",
  "colab": {
   "collapsed_sections": [],
   "machine_shape": "hm",
   "name": "Regression_CapStone",
   "provenance": [],
   "toc_visible": true
  },
  "kernelspec": {
   "display_name": "Python 3",
   "language": "python",
   "name": "python3"
  },
  "language_info": {
   "codemirror_mode": {
    "name": "ipython",
    "version": 3
   },
   "file_extension": ".py",
   "mimetype": "text/x-python",
   "name": "python",
   "nbconvert_exporter": "python",
   "pygments_lexer": "ipython3",
   "version": "3.7.3"
  }
 },
 "nbformat": 4,
 "nbformat_minor": 1
}
